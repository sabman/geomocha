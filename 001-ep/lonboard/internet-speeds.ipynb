{
 "cells": [
  {
   "cell_type": "code",
   "execution_count": 1,
   "metadata": {},
   "outputs": [
    {
     "name": "stderr",
     "output_type": "stream",
     "text": [
      "/Users/shoaib/.pyenv/versions/venv3_8_12/lib/python3.8/site-packages/geopandas/_compat.py:124: UserWarning: The Shapely GEOS version (3.11.2-CAPI-1.17.2) is incompatible with the GEOS version PyGEOS was compiled with (3.10.3-CAPI-1.16.1). Conversions between both will be slow.\n",
      "  warnings.warn(\n",
      "/var/folders/w3/ky4df5s94gs548d4sl72bw3h0000gn/T/ipykernel_30789/3898927185.py:1: DeprecationWarning: Shapely 2.0 is installed, but because PyGEOS is also installed, GeoPandas still uses PyGEOS by default. However, starting with version 0.14, the default will switch to Shapely. To force to use Shapely 2.0 now, you can either uninstall PyGEOS or set the environment variable USE_PYGEOS=0. You can do this before starting the Python process, or in your code before importing geopandas:\n",
      "\n",
      "import os\n",
      "os.environ['USE_PYGEOS'] = '0'\n",
      "import geopandas\n",
      "\n",
      "In the next release, GeoPandas will switch to using Shapely by default, even if PyGEOS is installed. If you only have PyGEOS installed to get speed-ups, this switch should be smooth. However, if you are using PyGEOS directly (calling PyGEOS functions on geometries from GeoPandas), this will then stop working and you are encouraged to migrate from PyGEOS to Shapely 2.0 (https://shapely.readthedocs.io/en/latest/migration_pygeos.html).\n",
      "  import geopandas as gpd\n"
     ]
    }
   ],
   "source": [
    "import geopandas as gpd\n",
    "import numpy as np\n",
    "import pandas as pd\n",
    "import shapely\n",
    "from palettable.colorbrewer.diverging import BrBG_10\n",
    "\n",
    "from lonboard import Map, ScatterplotLayer\n",
    "from lonboard.colormap import apply_continuous_cmap"
   ]
  },
  {
   "cell_type": "code",
   "execution_count": 2,
   "metadata": {},
   "outputs": [],
   "source": [
    "url = \"https://ookla-open-data.s3.us-west-2.amazonaws.com/parquet/performance/type=mobile/year=2019/quarter=1/2019-01-01_performance_mobile_tiles.parquet\""
   ]
  },
  {
   "cell_type": "code",
   "execution_count": 3,
   "metadata": {},
   "outputs": [],
   "source": [
    "# avg_d_kbps is the average download speed for that data point in kilobits per second\n",
    "# tile is the WKT string representing a given zoom-16 Web Mercator tile\n",
    "columns = [\"avg_d_kbps\", \"tile\"]"
   ]
  },
  {
   "cell_type": "code",
   "execution_count": 4,
   "metadata": {},
   "outputs": [],
   "source": [
    "df = pd.read_parquet(url, columns=columns)"
   ]
  },
  {
   "cell_type": "code",
   "execution_count": 5,
   "metadata": {},
   "outputs": [
    {
     "data": {
      "text/html": [
       "<div>\n",
       "<style scoped>\n",
       "    .dataframe tbody tr th:only-of-type {\n",
       "        vertical-align: middle;\n",
       "    }\n",
       "\n",
       "    .dataframe tbody tr th {\n",
       "        vertical-align: top;\n",
       "    }\n",
       "\n",
       "    .dataframe thead th {\n",
       "        text-align: right;\n",
       "    }\n",
       "</style>\n",
       "<table border=\"1\" class=\"dataframe\">\n",
       "  <thead>\n",
       "    <tr style=\"text-align: right;\">\n",
       "      <th></th>\n",
       "      <th>avg_d_kbps</th>\n",
       "      <th>tile</th>\n",
       "    </tr>\n",
       "  </thead>\n",
       "  <tbody>\n",
       "    <tr>\n",
       "      <th>0</th>\n",
       "      <td>5983</td>\n",
       "      <td>POLYGON((-160.021362304688 70.6381267305321, -...</td>\n",
       "    </tr>\n",
       "    <tr>\n",
       "      <th>1</th>\n",
       "      <td>3748</td>\n",
       "      <td>POLYGON((-160.043334960938 70.6344840663086, -...</td>\n",
       "    </tr>\n",
       "    <tr>\n",
       "      <th>2</th>\n",
       "      <td>3364</td>\n",
       "      <td>POLYGON((-160.043334960938 70.6326624870732, -...</td>\n",
       "    </tr>\n",
       "    <tr>\n",
       "      <th>3</th>\n",
       "      <td>2381</td>\n",
       "      <td>POLYGON((-160.037841796875 70.6344840663086, -...</td>\n",
       "    </tr>\n",
       "    <tr>\n",
       "      <th>4</th>\n",
       "      <td>3047</td>\n",
       "      <td>POLYGON((-160.037841796875 70.6326624870732, -...</td>\n",
       "    </tr>\n",
       "  </tbody>\n",
       "</table>\n",
       "</div>"
      ],
      "text/plain": [
       "   avg_d_kbps                                               tile\n",
       "0        5983  POLYGON((-160.021362304688 70.6381267305321, -...\n",
       "1        3748  POLYGON((-160.043334960938 70.6344840663086, -...\n",
       "2        3364  POLYGON((-160.043334960938 70.6326624870732, -...\n",
       "3        2381  POLYGON((-160.037841796875 70.6344840663086, -...\n",
       "4        3047  POLYGON((-160.037841796875 70.6326624870732, -..."
      ]
     },
     "execution_count": 5,
     "metadata": {},
     "output_type": "execute_result"
    }
   ],
   "source": [
    "df.head()"
   ]
  },
  {
   "cell_type": "code",
   "execution_count": 6,
   "metadata": {},
   "outputs": [],
   "source": [
    "tile_geometries = shapely.from_wkt(df[\"tile\"])\n",
    "tile_centroids = shapely.centroid(tile_geometries)"
   ]
  },
  {
   "cell_type": "code",
   "execution_count": 7,
   "metadata": {},
   "outputs": [],
   "source": [
    "gdf = gpd.GeoDataFrame(df[[\"avg_d_kbps\"]], geometry=tile_centroids)"
   ]
  },
  {
   "cell_type": "code",
   "execution_count": 8,
   "metadata": {},
   "outputs": [],
   "source": [
    "gdf = gdf.cx[-11.83:25.5, 34.9:59]"
   ]
  },
  {
   "cell_type": "code",
   "execution_count": 9,
   "metadata": {},
   "outputs": [
    {
     "data": {
      "text/html": [
       "<div>\n",
       "<style scoped>\n",
       "    .dataframe tbody tr th:only-of-type {\n",
       "        vertical-align: middle;\n",
       "    }\n",
       "\n",
       "    .dataframe tbody tr th {\n",
       "        vertical-align: top;\n",
       "    }\n",
       "\n",
       "    .dataframe thead th {\n",
       "        text-align: right;\n",
       "    }\n",
       "</style>\n",
       "<table border=\"1\" class=\"dataframe\">\n",
       "  <thead>\n",
       "    <tr style=\"text-align: right;\">\n",
       "      <th></th>\n",
       "      <th>avg_d_kbps</th>\n",
       "      <th>geometry</th>\n",
       "    </tr>\n",
       "  </thead>\n",
       "  <tbody>\n",
       "    <tr>\n",
       "      <th>383429</th>\n",
       "      <td>13570</td>\n",
       "      <td>POINT (-2.94159 58.99673)</td>\n",
       "    </tr>\n",
       "    <tr>\n",
       "      <th>383430</th>\n",
       "      <td>18108</td>\n",
       "      <td>POINT (-3.29865 58.96276)</td>\n",
       "    </tr>\n",
       "    <tr>\n",
       "      <th>383431</th>\n",
       "      <td>5569</td>\n",
       "      <td>POINT (-3.29315 58.97125)</td>\n",
       "    </tr>\n",
       "    <tr>\n",
       "      <th>383432</th>\n",
       "      <td>9349</td>\n",
       "      <td>POINT (-3.29315 58.96842)</td>\n",
       "    </tr>\n",
       "    <tr>\n",
       "      <th>383433</th>\n",
       "      <td>11216</td>\n",
       "      <td>POINT (-3.23273 58.98541)</td>\n",
       "    </tr>\n",
       "    <tr>\n",
       "      <th>...</th>\n",
       "      <td>...</td>\n",
       "      <td>...</td>\n",
       "    </tr>\n",
       "    <tr>\n",
       "      <th>1840929</th>\n",
       "      <td>104723</td>\n",
       "      <td>POINT (25.38666 35.09519)</td>\n",
       "    </tr>\n",
       "    <tr>\n",
       "      <th>1840930</th>\n",
       "      <td>62540</td>\n",
       "      <td>POINT (25.44708 35.04124)</td>\n",
       "    </tr>\n",
       "    <tr>\n",
       "      <th>1840931</th>\n",
       "      <td>88068</td>\n",
       "      <td>POINT (25.47455 35.04124)</td>\n",
       "    </tr>\n",
       "    <tr>\n",
       "      <th>1840938</th>\n",
       "      <td>38255</td>\n",
       "      <td>POINT (25.38116 35.00075)</td>\n",
       "    </tr>\n",
       "    <tr>\n",
       "      <th>1840939</th>\n",
       "      <td>91750</td>\n",
       "      <td>POINT (25.45807 34.99175)</td>\n",
       "    </tr>\n",
       "  </tbody>\n",
       "</table>\n",
       "<p>807221 rows × 2 columns</p>\n",
       "</div>"
      ],
      "text/plain": [
       "         avg_d_kbps                   geometry\n",
       "383429        13570  POINT (-2.94159 58.99673)\n",
       "383430        18108  POINT (-3.29865 58.96276)\n",
       "383431         5569  POINT (-3.29315 58.97125)\n",
       "383432         9349  POINT (-3.29315 58.96842)\n",
       "383433        11216  POINT (-3.23273 58.98541)\n",
       "...             ...                        ...\n",
       "1840929      104723  POINT (25.38666 35.09519)\n",
       "1840930       62540  POINT (25.44708 35.04124)\n",
       "1840931       88068  POINT (25.47455 35.04124)\n",
       "1840938       38255  POINT (25.38116 35.00075)\n",
       "1840939       91750  POINT (25.45807 34.99175)\n",
       "\n",
       "[807221 rows x 2 columns]"
      ]
     },
     "execution_count": 9,
     "metadata": {},
     "output_type": "execute_result"
    }
   ],
   "source": [
    "gdf"
   ]
  },
  {
   "cell_type": "code",
   "execution_count": null,
   "metadata": {},
   "outputs": [],
   "source": [
    "\n"
   ]
  },
  {
   "cell_type": "code",
   "execution_count": 10,
   "metadata": {},
   "outputs": [
    {
     "data": {
      "application/vnd.jupyter.widget-view+json": {
       "model_id": "3e45761252be4121801253c4e06e6cb8",
       "version_major": 2,
       "version_minor": 0
      },
      "text/plain": [
       "Map(layers=[ScatterplotLayer(table=pyarrow.Table\n",
       "avg_d_kbps: uint32\n",
       "__index_level_0__: int64\n",
       "geometry: fixed_s…"
      ]
     },
     "execution_count": 10,
     "metadata": {},
     "output_type": "execute_result"
    }
   ],
   "source": [
    "layer = ScatterplotLayer.from_geopandas(gdf)\n",
    "map_ = Map(layers=[layer])\n",
    "map_"
   ]
  },
  {
   "cell_type": "code",
   "execution_count": 11,
   "metadata": {},
   "outputs": [],
   "source": [
    "layer.get_fill_color = [0, 0, 200, 200]"
   ]
  },
  {
   "cell_type": "code",
   "execution_count": 12,
   "metadata": {},
   "outputs": [],
   "source": [
    "min_bound = 5000\n",
    "max_bound = 50000\n",
    "download_speed = gdf['avg_d_kbps']\n",
    "normalized_download_speed = (download_speed - min_bound) / (max_bound - min_bound)"
   ]
  },
  {
   "cell_type": "code",
   "execution_count": 13,
   "metadata": {},
   "outputs": [
    {
     "data": {
      "text/plain": [
       "383429     0.190444\n",
       "383430     0.291289\n",
       "383431     0.012644\n",
       "383432     0.096644\n",
       "383433     0.138133\n",
       "             ...   \n",
       "1840929    2.216067\n",
       "1840930    1.278667\n",
       "1840931    1.845956\n",
       "1840938    0.739000\n",
       "1840939    1.927778\n",
       "Name: avg_d_kbps, Length: 807221, dtype: float64"
      ]
     },
     "execution_count": 13,
     "metadata": {},
     "output_type": "execute_result"
    }
   ],
   "source": [
    "normalized_download_speed"
   ]
  },
  {
   "cell_type": "code",
   "execution_count": 14,
   "metadata": {},
   "outputs": [
    {
     "data": {
      "image/png": "[encoded data removed]",
      "text/html": [
       "<div style=\"vertical-align: middle;\"><strong>BrBG</strong> </div><div class=\"cmap\"><img alt=\"BrBG colormap\" title=\"BrBG\" style=\"border: 1px solid #555;\" src=\"data:image/png;base64,iVBORw0KGgoAAAANSUhEUgAAAgAAAABACAYAAABsv8+/AAAAE3RFWHRUaXRsZQBCckJHIGNvbG9ybWFwMTXIUAAAABl0RVh0RGVzY3JpcHRpb24AQnJCRyBjb2xvcm1hcLqHWMgAAAAwdEVYdEF1dGhvcgBNYXRwbG90bGliIHYzLjcuMywgaHR0cHM6Ly9tYXRwbG90bGliLm9yZ7rJ3hAAAAAydEVYdFNvZnR3YXJlAE1hdHBsb3RsaWIgdjMuNy4zLCBodHRwczovL21hdHBsb3RsaWIub3JnlG9BNwAAAilJREFUeJzt1k1u2zAURlGSQffTxXT/O7GYgSUHejahBPGgwHfOROWPKCYBitv//f0zW2ut99Zaa21cPu//GOPd+/t5/O7949h/39iP8WP+GI/TfO9l3yj79vXn88bL9/riO/Ueva4v7tHLd/rHx/7+6+d4rI/z+uq9sn8s18u5i/PG4tyrexz3bsffr5f3HvP7vnEer/a3Xu6x2N/K+V/7X8+3i++u7jn3v/Ns9+fWxv6s8+f15/lvnvPj7/32fne3Oe/j/XmbWxkf69ti/2/XV9970/q2nZ5bGd+2uZg/9pdzZj1nlv3fO/9p3/zhPco5x88763xZr/NzMb967+n8i/eX56/us1hv+++97b+Hr/GxPi/G/+n7+779fysAIIkAAIBAAgAAAgkAAAgkAAAgkAAAgEACAAACCQAACCQAACCQAACAQAIAAAIJAAAIJAAAIJAAAIBAAgAAAgkAAAgkAAAgkAAAgEACAAACCQAACCQAACCQAACAQAIAAAIJAAAIJAAAIJAAAIBAAgAAAgkAAAgkAAAgkAAAgEACAAACCQAACCQAACCQAACAQAIAAAIJAAAIJAAAIJAAAIBAAgAAAgkAAAgkAAAgkAAAgEACAAACCQAACCQAACCQAACAQAIAAAIJAAAIJAAAIJAAAIBAAgAAAgkAAAgkAAAgkAAAgEACAAACCQAACCQAACCQAACAQAIAAAIJAAAIJAAAIJAAAIBAAgAAAn0CyK5V+uT9Ti4AAAAASUVORK5CYII=\"></div><div style=\"vertical-align: middle; max-width: 514px; display: flex; justify-content: space-between;\"><div style=\"float: left;\"><div title=\"#543005ff\" style=\"display: inline-block; width: 1em; height: 1em; margin: 0; vertical-align: middle; border: 1px solid #555; background-color: #543005ff;\"></div> under</div><div style=\"margin: 0 auto; display: inline-block;\">bad <div title=\"#00000000\" style=\"display: inline-block; width: 1em; height: 1em; margin: 0; vertical-align: middle; border: 1px solid #555; background-color: #00000000;\"></div></div><div style=\"float: right;\">over <div title=\"#003c30ff\" style=\"display: inline-block; width: 1em; height: 1em; margin: 0; vertical-align: middle; border: 1px solid #555; background-color: #003c30ff;\"></div></div>"
      ],
      "text/plain": [
       "<matplotlib.colors.LinearSegmentedColormap at 0x2d1a4aca0>"
      ]
     },
     "execution_count": 14,
     "metadata": {},
     "output_type": "execute_result"
    }
   ],
   "source": [
    "BrBG_10.mpl_colormap"
   ]
  },
  {
   "cell_type": "code",
   "execution_count": 15,
   "metadata": {},
   "outputs": [],
   "source": [
    "layer.get_fill_color = apply_continuous_cmap(normalized_download_speed, BrBG_10)"
   ]
  },
  {
   "cell_type": "code",
   "execution_count": 16,
   "metadata": {},
   "outputs": [],
   "source": [
    "# for now, cast to a numpy array until the layer is updated to support pandas series\n",
    "layer.get_radius = np.array(normalized_download_speed) * 200\n",
    "layer.radius_units = \"meters\"\n",
    "layer.radius_min_pixels = 0.5"
   ]
  },
  {
   "cell_type": "code",
   "execution_count": null,
   "metadata": {},
   "outputs": [],
   "source": []
  }
 ],
 "metadata": {
  "kernelspec": {
   "display_name": "Python (venv3_8_12)",
   "language": "python",
   "name": "venv3_8_12"
  },
  "language_info": {
   "codemirror_mode": {
    "name": "ipython",
    "version": 3
   },
   "file_extension": ".py",
   "mimetype": "text/x-python",
   "name": "python",
   "nbconvert_exporter": "python",
   "pygments_lexer": "ipython3",
   "version": "3.8.12"
  }
 },
 "nbformat": 4,
 "nbformat_minor": 4
}
